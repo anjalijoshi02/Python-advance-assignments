{
 "cells": [
  {
   "cell_type": "markdown",
   "id": "7c3a195f",
   "metadata": {},
   "source": [
    "# Python Advance Assignment-3"
   ]
  },
  {
   "cell_type": "markdown",
   "id": "e5d35bcd",
   "metadata": {},
   "source": [
    "####  Question 1 : What is the concept of an abstract superclass?\n",
    "- An abstract superclass can be considered as a blueprint for other classes.\n",
    "- It allows you to create a set of methods that must be created within any child classes built from the abstract class.\n",
    "- A class which contains one or more abstract methods is called an abstract class."
   ]
  },
  {
   "cell_type": "markdown",
   "id": "97290501",
   "metadata": {},
   "source": [
    "#### Question 2 : What happens when a class statement's top level contains a basic assignment statement?\n",
    "When a Class statement's top level contains a basic assignment statement, it is usually treated as a class attribute or class level variable.\n",
    "Whereas assignment statements inside methods are treated as instance attributes or local attributes."
   ]
  },
  {
   "cell_type": "markdown",
   "id": "4189cf98",
   "metadata": {},
   "source": [
    "#### Question 3 : Why does a class need to manually call a superclass's __init__ method?\n",
    "If the derived/child class has __init__ method, it won't inherit the __init__ method of the parent class.    \n",
    "In other words, a child class's __init__ method overrides the parent method and thus we need to call the parent class's __init__ method manually using super() method. "
   ]
  },
  {
   "cell_type": "markdown",
   "id": "1bd95dec",
   "metadata": {},
   "source": [
    "#### Question 4 : How can you augment, instead of completely replacing, an inherited method?\\\n",
    "super() method can be used to augment, instead of completely replacing, an inherited method."
   ]
  },
  {
   "cell_type": "markdown",
   "id": "cfc808da",
   "metadata": {},
   "source": [
    "#### Question 5 : How is the local scope of a class different from that of a function?\n",
    "A Variable which is defined inside a function is local to that function. It is accesible from the point at which it is defined until the end of the function, and exists for as long as the function is existing.\n",
    "\n",
    "Similary a variable inside a class also has a local variable scope. Variables which are defined in the class body (but outside all methods) are called as class level variables or class attributes. They can be referenced by there bare names within the same scope, but they can also be accessed from outside this scope if we use the attribute access operator (.). on a class or an instance of the class."
   ]
  }
 ],
 "metadata": {
  "kernelspec": {
   "display_name": "Python 3 (ipykernel)",
   "language": "python",
   "name": "python3"
  },
  "language_info": {
   "codemirror_mode": {
    "name": "ipython",
    "version": 3
   },
   "file_extension": ".py",
   "mimetype": "text/x-python",
   "name": "python",
   "nbconvert_exporter": "python",
   "pygments_lexer": "ipython3",
   "version": "3.9.7"
  }
 },
 "nbformat": 4,
 "nbformat_minor": 5
}
