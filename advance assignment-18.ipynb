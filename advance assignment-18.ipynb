{
 "cells": [
  {
   "cell_type": "markdown",
   "id": "15d1afb4",
   "metadata": {},
   "source": [
    "# Python Advance assignment-18"
   ]
  },
  {
   "cell_type": "markdown",
   "id": "9832455c",
   "metadata": {},
   "source": [
    "#### Question 1: Describe the differences between text and binary files in a single paragraph.\n",
    "__Ans:__ The differences between Text Files and Binary Files are:\n",
    "\n",
    "__Text files__ are special subset of binary files that are used to store human readable characters as a rich text document or plain text document. Text files also store data in sequential bytes but bits in text file represents characters.\n",
    "\n",
    "__Binary files__ are those typical files that store data in the form of sequence of bytes grouped into eight bits or sometimes sixteen bits. These bits represent custom data and such files can store multiple types of data (images, audio, text, etc) under a single file."
   ]
  },
  {
   "cell_type": "markdown",
   "id": "f56469c3",
   "metadata": {},
   "source": [
    "#### Question 2:What are some scenarios where using text files will be the better option? When would you like to use binary files instead of text files?\n",
    "__Ans:__ Text files are less prone to get corrupted as any undesired change may just show up once the file is opened and then can easily be removed. Whereas Use binary files instead of text files for image data."
   ]
  },
  {
   "cell_type": "markdown",
   "id": "0d187c82",
   "metadata": {},
   "source": [
    "#### Question 3:What are some of the issues with using binary operations to read and write a Python integer directly to disc?\n",
    "__Ans:__ When we read or write a python integer using binary operations\n",
    "\n",
    "- Binary operations deal with raw data\n",
    "- One needs to identify how many bytes one would read or write."
   ]
  },
  {
   "cell_type": "markdown",
   "id": "909c2dc5",
   "metadata": {},
   "source": [
    "#### Question 4: Describe a benefit of using the with keyword instead of explicitly opening a file ?\n",
    "__Ans:__ When a file is opened using the __with__ keyword, if some exceptions occur after opening a file, or at the end of the file it automatically does the closing of the file. There by not leaving an file in open mode and there would no need to explicitly close a file."
   ]
  },
  {
   "cell_type": "markdown",
   "id": "2af95f27",
   "metadata": {},
   "source": [
    "#### Question 5: Does Python have the trailing newline while reading a line of text? Does Python append a newline when you write a line of text?\n",
    "__Ans:__ Yes, Python have the trailing newline while reading a line of text. When we write a newline has to be provided in python excpicitly."
   ]
  },
  {
   "cell_type": "markdown",
   "id": "73c2ee47",
   "metadata": {},
   "source": [
    "#### Question 6:What file operations enable for random-access operation?\n",
    "Ans: The file operations enable for random-access operation are ___seek()___ and ___tell()___"
   ]
  },
  {
   "cell_type": "markdown",
   "id": "02b7d53d",
   "metadata": {},
   "source": [
    "#### Question 7:When do you think you'll use the struct package the most?\n",
    "__Ans:__ The struct package is mostly used while converting a common python types into C language types."
   ]
  },
  {
   "cell_type": "markdown",
   "id": "3ea48c46",
   "metadata": {},
   "source": [
    "#### Question 8:When is pickling the best option?\n",
    "__Ans:__ Pickling is best option for creating a new binary file using python."
   ]
  },
  {
   "cell_type": "markdown",
   "id": "6c4c2abc",
   "metadata": {},
   "source": [
    "#### Question 9:When will it be best to use the shelve package?\n",
    "Ans: Shelve package is used to pickle data but treats the entire file as dictionary."
   ]
  },
  {
   "cell_type": "markdown",
   "id": "b066a408",
   "metadata": {},
   "source": [
    "#### Question 10:What is a special restriction when using the shelve package, as opposed to using other data dictionaries?\n",
    "__Ans:__ Only string data type can be used as key in this special dictionary object, whereas any picklable Python object can be used as value."
   ]
  }
 ],
 "metadata": {
  "kernelspec": {
   "display_name": "Python 3 (ipykernel)",
   "language": "python",
   "name": "python3"
  },
  "language_info": {
   "codemirror_mode": {
    "name": "ipython",
    "version": 3
   },
   "file_extension": ".py",
   "mimetype": "text/x-python",
   "name": "python",
   "nbconvert_exporter": "python",
   "pygments_lexer": "ipython3",
   "version": "3.9.12"
  }
 },
 "nbformat": 4,
 "nbformat_minor": 5
}
