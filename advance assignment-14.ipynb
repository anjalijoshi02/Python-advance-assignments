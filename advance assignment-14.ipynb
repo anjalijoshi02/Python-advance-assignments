{
 "cells": [
  {
   "cell_type": "markdown",
   "id": "54dfc89e",
   "metadata": {},
   "source": [
    "# Python Advance Assignment-14"
   ]
  },
  {
   "cell_type": "markdown",
   "id": "dbb19333",
   "metadata": {},
   "source": [
    "#### Question 1: Is an assignment operator like += only for show? Is it possible that it would lead to faster results at the runtime ?\n",
    "__Ans:__ A=A+1 evaluates to finding A, adding 1 to it. Then storing the value again in variable A. This expression makes Python to look for memory holder of a twice. But A+=1 simply means value of A is to incremented by 1. As memory address has to be identified once, += leads to faster operation."
   ]
  },
  {
   "cell_type": "markdown",
   "id": "fad70646",
   "metadata": {},
   "source": [
    "#### Question 2:What is the smallest no of statements you'd have to write in most programming languages to replace the Python expr a, b = a + b, a ?\n",
    "__Ans:__ Minimum number of lines required to write above code in languages other Python will be 4, two for assigning initial values for variables a and b, and two for reassignment i.e. a=a+b and b=a."
   ]
  },
  {
   "cell_type": "markdown",
   "id": "ec4f609f",
   "metadata": {},
   "source": [
    "#### Question 3:In Python, what is the most effective way to set a list of 100 integers to 0?\n",
    "__Ans:__ The Most effective way to set a list of 100 integers to 0 in python is by using repition operator(*) or by using list comprehension."
   ]
  },
  {
   "cell_type": "code",
   "execution_count": 1,
   "id": "08747b03",
   "metadata": {},
   "outputs": [
    {
     "name": "stdout",
     "output_type": "stream",
     "text": [
      "[0, 0, 0, 0, 0, 0, 0, 0, 0, 0, 0, 0, 0, 0, 0, 0, 0, 0, 0, 0, 0, 0, 0, 0, 0, 0, 0, 0, 0, 0, 0, 0, 0, 0, 0, 0, 0, 0, 0, 0, 0, 0, 0, 0, 0, 0, 0, 0, 0, 0, 0, 0, 0, 0, 0, 0, 0, 0, 0, 0, 0, 0, 0, 0, 0, 0, 0, 0, 0, 0, 0, 0, 0, 0, 0, 0, 0, 0, 0, 0, 0, 0, 0, 0, 0, 0, 0, 0, 0, 0, 0, 0, 0, 0, 0, 0, 0, 0, 0, 0]\n"
     ]
    }
   ],
   "source": [
    "L=[0 for x in range(100)]\n",
    "print(L)"
   ]
  },
  {
   "cell_type": "markdown",
   "id": "fa385b12",
   "metadata": {},
   "source": [
    "#### Question 4:What is the most effective way to initialise a list of 99 integers that repeats the sequence 1, 2, 3? S If necessary, show step-by-step instructions on how to accomplish this."
   ]
  },
  {
   "cell_type": "code",
   "execution_count": 2,
   "id": "894dde8b",
   "metadata": {},
   "outputs": [
    {
     "name": "stdout",
     "output_type": "stream",
     "text": [
      "[1, 2, 3, 1, 2, 3, 1, 2, 3, 1, 2, 3, 1, 2, 3, 1, 2, 3, 1, 2, 3, 1, 2, 3, 1, 2, 3, 1, 2, 3, 1, 2, 3, 1, 2, 3, 1, 2, 3, 1, 2, 3, 1, 2, 3, 1, 2, 3, 1, 2, 3, 1, 2, 3, 1, 2, 3, 1, 2, 3, 1, 2, 3, 1, 2, 3, 1, 2, 3, 1, 2, 3, 1, 2, 3, 1, 2, 3, 1, 2, 3, 1, 2, 3, 1, 2, 3, 1, 2, 3, 1, 2, 3, 1, 2, 3, 1, 2, 3]\n"
     ]
    }
   ],
   "source": [
    "L=[1,2,3]\n",
    "# since there are 3 elements in this list, so to create a list that contains 99 elements we need to multiply this list with 33 \n",
    "# and this will repeat the sequence \n",
    "print(L*33)"
   ]
  },
  {
   "cell_type": "markdown",
   "id": "b35bd235",
   "metadata": {},
   "source": [
    "#### Question 5: If you're using IDLE to run a Python application, explain how to print a multidimensional list as efficiently?"
   ]
  },
  {
   "cell_type": "code",
   "execution_count": 3,
   "id": "669ffcce",
   "metadata": {},
   "outputs": [
    {
     "name": "stdout",
     "output_type": "stream",
     "text": [
      "1 1 2 2 3 3 4 4 5 5 "
     ]
    }
   ],
   "source": [
    "L= [[1,1],[2,2],[3,3],[4,4],[5,5]] # 2 dimensional List\n",
    "for x in range(len(L)):\n",
    "    for y in range(len(L[x])):\n",
    "        print(L[x][y],end=\" \")\n"
   ]
  },
  {
   "cell_type": "markdown",
   "id": "e62205de",
   "metadata": {},
   "source": [
    "#### Question 6: Is it possible to use list comprehension with a string? If so, how can you go about doing it?\n",
    "__Ans:__ Yes, it it possible to use list comprehension with a string"
   ]
  },
  {
   "cell_type": "code",
   "execution_count": 4,
   "id": "7fa409fb",
   "metadata": {},
   "outputs": [
    {
     "name": "stdout",
     "output_type": "stream",
     "text": [
      "['F', 'u', 'l', 'l', ' ', 'S', 't', 'a', 'c', 'k', ' ', 'D', 'a', 't', 'a', ' ', 'S', 'c', 'i', 'e', 'n', 'c', 'e']\n"
     ]
    }
   ],
   "source": [
    "L=[x for x in \"Full Stack Data Science\"]\n",
    "print(L)"
   ]
  },
  {
   "cell_type": "markdown",
   "id": "b833156d",
   "metadata": {},
   "source": [
    "#### Question 7:  From the command line, how do you get support with a user-written Python programme? Is this possible from inside IDLE?\n",
    "__Ans:__ __Get support with a user-written Python Programme:__ Start a command prompt (Windows) or terminal window (Linux/Mac). If the current working directory is the same as the location in which you saved the file, you can simply specify the filename as a command-line argument to the Python interpreter.\n",
    "\n",
    "__Get support with a User-written Python Program from IDLE:__ You can also create script files and run them in IDLE. From the Shell window menu, select __File → New File__. That should open an additional editing window. Type in the code to be executed. From the menu in that window, select __File → Save or File → Save As…__ and save the file to disk. Then select __Run → Run Module__. The output should appear back in the interpreter\n"
   ]
  },
  {
   "cell_type": "markdown",
   "id": "88d8bafa",
   "metadata": {},
   "source": [
    "#### Question 8: Functions are said to be “first-class objects” in Python but not in most other languages, such as C++ or Java. What can you do in Python with a function (callable object) that you can't do in C or C++?\n",
    "__Ans:__ The tasks which can be performed with the functions in python are:\n",
    "\n",
    "1. A function is an instance of the Object type.\n",
    "2. We can store the function in a variable.\n",
    "3. We can pass the function as a parameter to another function.\n",
    "4. We can return the function from a function.\n",
    "5. We can store them in data structures such as hash tables, lists,"
   ]
  },
  {
   "cell_type": "markdown",
   "id": "141b3e65",
   "metadata": {},
   "source": [
    "#### Question 9:How do you distinguish between a wrapper, a wrapped feature, and a decorator?\n",
    "__Ans:__ Wrappers Around the functions are known as Decrators."
   ]
  },
  {
   "cell_type": "markdown",
   "id": "595cd737",
   "metadata": {},
   "source": [
    "#### Question 10:If a function is a generator function, what does it return?\n",
    "__Ans:__ Generator functions are a special kind of function that return a lazy iterator. These are objects that you can loop over like a list. However, unlike lists, lazy iterators do not store their contents in memory."
   ]
  },
  {
   "cell_type": "markdown",
   "id": "02ea1fa0",
   "metadata": {},
   "source": [
    "#### Question 11:What is the one improvement that must be made to a function in order for it to become a generator function in the Python language?\n",
    "__Ans:__ Generator is a written as normal function but uses yield keyword to return values instead of return keyword."
   ]
  },
  {
   "cell_type": "markdown",
   "id": "91920be8",
   "metadata": {},
   "source": [
    "#### Question 12: Identify at least one benefit of generators.\n",
    "__Ans:__ return statement sends a specified value back to its caller whereas yield statment can produce a sequence of values. We should use generator when we want to iterate over a sequence, but don’t want to store the entire sequence in memory."
   ]
  }
 ],
 "metadata": {
  "kernelspec": {
   "display_name": "Python 3 (ipykernel)",
   "language": "python",
   "name": "python3"
  },
  "language_info": {
   "codemirror_mode": {
    "name": "ipython",
    "version": 3
   },
   "file_extension": ".py",
   "mimetype": "text/x-python",
   "name": "python",
   "nbconvert_exporter": "python",
   "pygments_lexer": "ipython3",
   "version": "3.9.12"
  }
 },
 "nbformat": 4,
 "nbformat_minor": 5
}
