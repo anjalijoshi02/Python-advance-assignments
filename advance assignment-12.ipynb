{
 "cells": [
  {
   "cell_type": "markdown",
   "id": "8528069f",
   "metadata": {},
   "source": [
    "# Python advance assignment-12"
   ]
  },
  {
   "cell_type": "markdown",
   "id": "ac5add5a",
   "metadata": {},
   "source": [
    "#### Question 1:  Does assigning a value to a string's indexed character violate Python's string immutability ?"
   ]
  },
  {
   "cell_type": "markdown",
   "id": "cbfe1be4",
   "metadata": {},
   "source": [
    "String’s indexed character cannot to be assigned a New value , as Strings are immutable."
   ]
  },
  {
   "cell_type": "markdown",
   "id": "6434dbaa",
   "metadata": {},
   "source": [
    "#### Question 2:  Does using the += operator to concatenate strings violate Python's string immutability? Why or why not ?"
   ]
  },
  {
   "cell_type": "markdown",
   "id": "a9727f8b",
   "metadata": {},
   "source": [
    "+= operator is used to concatenate strings, it does not violate Python’s string immutability Property. Because doing so new creates a new association with data and variable. E.g. str_1=\"a\" and str_1+=\"b. effect of this statements to create string ab and reassign it to variable str_1, any string data is not actually modified."
   ]
  },
  {
   "cell_type": "code",
   "execution_count": 1,
   "id": "ed789d02",
   "metadata": {},
   "outputs": [
    {
     "name": "stdout",
     "output_type": "stream",
     "text": [
      "1685387069040\n",
      "1685467289264\n"
     ]
    }
   ],
   "source": [
    "str_1 = 'a'\n",
    "print(id(str_1))\n",
    "str_1 += 'b'\n",
    "print(id(str_1))"
   ]
  },
  {
   "cell_type": "markdown",
   "id": "c74464e5",
   "metadata": {},
   "source": [
    "#### Question 3: In Python, how many different ways are there to index a character?"
   ]
  },
  {
   "cell_type": "markdown",
   "id": "150f3882",
   "metadata": {},
   "source": [
    "A Character in string can be indexed using string name followed by index number of character in square bracket. Positive Indexing i.e. first index is 0 an so on, or Negative Indexing i.e. last letter is -1 and so on can be used to index a character"
   ]
  },
  {
   "cell_type": "markdown",
   "id": "3c26c615",
   "metadata": {},
   "source": [
    "#### Question 4: What is the relationship between indexing and slicing?"
   ]
  },
  {
   "cell_type": "markdown",
   "id": "5152f1f3",
   "metadata": {},
   "source": [
    "We can access elements of sequence datatypes by using slicing and indexing. Indexing is used to obtaining individual element while slicing for sequence of elements."
   ]
  },
  {
   "cell_type": "markdown",
   "id": "0a3f85f2",
   "metadata": {},
   "source": [
    "#### Question 5:What is an indexed character's exact data type? What is the data form of a slicing-generated substring?\n"
   ]
  },
  {
   "cell_type": "markdown",
   "id": "08752254",
   "metadata": {},
   "source": [
    " Indexed characters and sliced substrings have datatype String."
   ]
  },
  {
   "cell_type": "markdown",
   "id": "e89bb5b7",
   "metadata": {},
   "source": [
    "#### Question 6:What is the relationship between string and character \"types\" in Python?"
   ]
  },
  {
   "cell_type": "markdown",
   "id": "b6a3f6a2",
   "metadata": {},
   "source": [
    "Object that contains sequence of character datatypes are called String."
   ]
  },
  {
   "cell_type": "markdown",
   "id": "8e81b432",
   "metadata": {},
   "source": [
    "#### Question 7:Identify at least two operators & one method that allow you to combine one or more smaller strings to create a larger string ?"
   ]
  },
  {
   "cell_type": "markdown",
   "id": "9ee3645d",
   "metadata": {},
   "source": [
    " +, += and * allow to combine one or more smaller strings to create a larger string. <string>.join(<sep>) method joins element of iterable type like list and tuple to get a combined string."
   ]
  },
  {
   "cell_type": "markdown",
   "id": "a9ac20ab",
   "metadata": {},
   "source": [
    "#### Question 8:What is the benefit of first checking the target string with in or not in before using the index method to find a substring ?"
   ]
  },
  {
   "cell_type": "markdown",
   "id": "862622a7",
   "metadata": {},
   "source": [
    " Checking the target string with in or not Operators before using the index method to find a substring just helps confirming availability of substring and thus avoid raising of ValueError."
   ]
  },
  {
   "cell_type": "markdown",
   "id": "82054aee",
   "metadata": {},
   "source": [
    "#### Question 9:Which operators and built-in string methods produce simple Boolean (true/false) results?"
   ]
  },
  {
   "cell_type": "markdown",
   "id": "6d02d25e",
   "metadata": {},
   "source": [
    " The String Operators and built-in methods to Produce Simple Boolean (True/False) Results are:\n",
    "\n",
    "in\n",
    "not\n",
    "1. <string>.isalpha()\n",
    "2. <string>.isalnum()\n",
    "3. <string>.isdecimal()\n",
    "4. <string>.isdigit()\n",
    "5. <string>.islower()\n",
    "6. <string>.isnumeric()\n",
    "7. <string>.isprintable()\n",
    "8. <string>.isspace()\n",
    "9. <string>.istitle()"
   ]
  },
  {
   "cell_type": "code",
   "execution_count": null,
   "id": "d279ca81",
   "metadata": {},
   "outputs": [],
   "source": []
  }
 ],
 "metadata": {
  "kernelspec": {
   "display_name": "Python 3 (ipykernel)",
   "language": "python",
   "name": "python3"
  },
  "language_info": {
   "codemirror_mode": {
    "name": "ipython",
    "version": 3
   },
   "file_extension": ".py",
   "mimetype": "text/x-python",
   "name": "python",
   "nbconvert_exporter": "python",
   "pygments_lexer": "ipython3",
   "version": "3.9.12"
  }
 },
 "nbformat": 4,
 "nbformat_minor": 5
}
