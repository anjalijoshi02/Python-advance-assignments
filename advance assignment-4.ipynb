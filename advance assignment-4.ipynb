{
 "cells": [
  {
   "cell_type": "markdown",
   "id": "b9c2640c",
   "metadata": {},
   "source": [
    "# Python Advance Assignment-4"
   ]
  },
  {
   "cell_type": "markdown",
   "id": "9a4bf702",
   "metadata": {},
   "source": [
    "#### Question 1 : Which two operator overloading methods can you use in your classes to support iteration?\n",
    "- __iter__ returns the iterator object and is called at the start of loop in our respective class.\n",
    "- __next__ is called at each loop increment, it returns the incremented value. Also Stopiteration is raised when there is no value to return."
   ]
  },
  {
   "cell_type": "code",
   "execution_count": 1,
   "id": "06e63e53",
   "metadata": {},
   "outputs": [
    {
     "name": "stdout",
     "output_type": "stream",
     "text": [
      "1 2 3 4 5 6 7 8 9 10 "
     ]
    }
   ],
   "source": [
    "class sequence:\n",
    "    def __init__(self,start,end):\n",
    "        self.current=start\n",
    "        self.end=end\n",
    "    def __iter__(self):\n",
    "        return self\n",
    "    def __next__(self):\n",
    "        if self.current > self.end:\n",
    "            raise StopIteration\n",
    "        else:\n",
    "            self.current += 1\n",
    "            return self.current - 1\n",
    "for i in sequence(1,10):\n",
    "    print(i,end=' ')"
   ]
  },
  {
   "cell_type": "markdown",
   "id": "93d5f87f",
   "metadata": {},
   "source": [
    "#### Question 2 : In what contexts do the two operator overloading methods manage printing?\n",
    "__str__ and __repr__ are two operator overloading methods that manage printing.\n",
    "\n",
    "- In Short, the difference between both these operators is the goal of __repr__ is to be unambiguous and __str__ is to be readable.\n",
    "- Whenever we are printing any object reference internally __str__ method will be called by default.\n",
    "- The main purpose of __str__ is for readability. It prints the informal string representation of an object, one that is useful for printing the object. It may not be possible to convert result string to original object.\n",
    "- __repr__ is used to print official string representation of an object, so it includes all information and development."
   ]
  },
  {
   "cell_type": "markdown",
   "id": "c90c0245",
   "metadata": {},
   "source": [
    "#### Question 3 : In a class, how do you intercept slice operations?\n",
    "In a class, use of slice() in \\__getitem__ method is used for intercept slice operation. This slice method is provided with start integer number, stop integer number and step integer number."
   ]
  },
  {
   "cell_type": "markdown",
   "id": "437f0398",
   "metadata": {},
   "source": [
    "#### Question :4. In a class, how do you capture in-place addition?\n",
    "a+b is normal addition. Whereas a+=b is inplace addition operation. In this in-place addition a itself will store the value of addition. In a class \\__iadd__ method is used for this in-place operation"
   ]
  },
  {
   "cell_type": "code",
   "execution_count": 2,
   "id": "ede60289",
   "metadata": {},
   "outputs": [
    {
     "name": "stdout",
     "output_type": "stream",
     "text": [
      "300\n"
     ]
    }
   ],
   "source": [
    "class abc:\n",
    "    def __init__(self,a):\n",
    "        self.a = a\n",
    "    def __iadd__(self,b):\n",
    "        self.a += b.a\n",
    "        return self.a\n",
    "        \n",
    "o1 = abc(100)\n",
    "o2 = abc(200)\n",
    "o1+=o2\n",
    "print(o1)"
   ]
  },
  {
   "cell_type": "markdown",
   "id": "dcc9f4b3",
   "metadata": {},
   "source": [
    "#### Question 5 : When is it appropriate to use operator overloading?\n",
    "Operator overloading is used when we want to use an operator other than its normal operation to have different meaning according to the context required in user defined function."
   ]
  }
 ],
 "metadata": {
  "kernelspec": {
   "display_name": "Python 3 (ipykernel)",
   "language": "python",
   "name": "python3"
  },
  "language_info": {
   "codemirror_mode": {
    "name": "ipython",
    "version": 3
   },
   "file_extension": ".py",
   "mimetype": "text/x-python",
   "name": "python",
   "nbconvert_exporter": "python",
   "pygments_lexer": "ipython3",
   "version": "3.9.7"
  }
 },
 "nbformat": 4,
 "nbformat_minor": 5
}
