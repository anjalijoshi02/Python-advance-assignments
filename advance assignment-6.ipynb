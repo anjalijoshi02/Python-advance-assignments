{
 "cells": [
  {
   "cell_type": "markdown",
   "id": "abb5958f",
   "metadata": {},
   "source": [
    "# Python Advance Assignment-6"
   ]
  },
  {
   "cell_type": "markdown",
   "id": "b5ac3985",
   "metadata": {},
   "source": [
    "#### Question 1: Describe three applications for exception processing.\n",
    "__Ans__ 1.Checking Appropriate use of input in an application             \n",
    "2.Checking for Arithmetic exceptions in mathematical executions       \n",
    "3.Checking File I/O exceptions during File handling"
   ]
  },
  {
   "cell_type": "markdown",
   "id": "08732985",
   "metadata": {},
   "source": [
    "#### Question 2: What happens if you don't do something extra to treat an exception?\n",
    "__Ans__ If we don't handle the exception properly, then the program might crash leading to abnormal termination of the program."
   ]
  },
  {
   "cell_type": "markdown",
   "id": "2a3b1064",
   "metadata": {},
   "source": [
    "#### Question 3: What are your options for recovering from an exception in your script?\n",
    "__Ans__ We can use __try__ and __except__ to recover from an exception in our script."
   ]
  },
  {
   "cell_type": "markdown",
   "id": "3bce961d",
   "metadata": {},
   "source": [
    "#### Question 4:Describe two methods for triggering exceptions in your script ?\n",
    "__Ans__  __raise__ and __assert__ can be used to trigger exceptions in script."
   ]
  },
  {
   "cell_type": "markdown",
   "id": "f6ccd29e",
   "metadata": {},
   "source": [
    "#### Question 5:Identify two methods for specifying actions to be executed at termination time, regardless of whether or not an exception exists.\n",
    "__Ans__ Python Provides else and finally blocks for specifying actions to be executed at termination time, regardless of whether an exceptions exists or not."
   ]
  }
 ],
 "metadata": {
  "kernelspec": {
   "display_name": "Python 3 (ipykernel)",
   "language": "python",
   "name": "python3"
  },
  "language_info": {
   "codemirror_mode": {
    "name": "ipython",
    "version": 3
   },
   "file_extension": ".py",
   "mimetype": "text/x-python",
   "name": "python",
   "nbconvert_exporter": "python",
   "pygments_lexer": "ipython3",
   "version": "3.9.7"
  }
 },
 "nbformat": 4,
 "nbformat_minor": 5
}
