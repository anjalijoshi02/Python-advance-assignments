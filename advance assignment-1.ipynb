{
 "cells": [
  {
   "cell_type": "markdown",
   "id": "8e2ff345",
   "metadata": {},
   "source": [
    "# Python Advance assignment-1"
   ]
  },
  {
   "cell_type": "markdown",
   "id": "204b785a",
   "metadata": {},
   "source": [
    "#### Question 1 : What is the purpose of Python's OOP?\n",
    "Object Oriented paradigm is to design the code using object and classes    \n",
    "- It aims to implement real world entities like abstarction, polymorphism, encapsulation, inheritance,modularity etc    \n",
    "- It increases reusability of the code    \n",
    "- Modularity allows to segment the code into manageable modules"
   ]
  },
  {
   "cell_type": "markdown",
   "id": "2764e3dd",
   "metadata": {},
   "source": [
    "#### Question 2 : Where does an inheritance search look for an attribute?\n",
    "Python searches for an attribute in an upward tree of attributes. It first searches for the attribute in its instance and then looks in the class it is inharited from, to all super classes listed in its class header"
   ]
  },
  {
   "cell_type": "markdown",
   "id": "fb29f5ed",
   "metadata": {},
   "source": [
    "#### Question 3: How do you distinguish between a class object and an instance object?\n",
    "- Class is a template for creating objects whereas object is an instance of class   \n",
    "- A Class is created once. Many objects are created using a class."
   ]
  },
  {
   "cell_type": "markdown",
   "id": "5b895892",
   "metadata": {},
   "source": [
    "#### Question  4 : What makes the first argument in a class’s method function special?\n",
    "Three types of methods in Python classes are :     \n",
    "- Insatnce methods   \n",
    "- Static methods    \n",
    "- Class methods     \n",
    "self(any other name can be used), the first argument in instance class is a pointer which refers an object to it's class. \n",
    "\n"
   ]
  },
  {
   "cell_type": "markdown",
   "id": "0f65854f",
   "metadata": {},
   "source": [
    "#### Question 5 : What is the purpose of the __init__ method?\n",
    " __init__ method is a constructor . This method is called when an object is created of a class and it allows the class to initialize the attributes of a class."
   ]
  },
  {
   "cell_type": "markdown",
   "id": "832c0772",
   "metadata": {},
   "source": [
    "#### Question 6 : What is the process for creating a class instance?\n",
    "To create a class instance, we need to call the class by its name and pass the arguments to the class instance."
   ]
  },
  {
   "cell_type": "markdown",
   "id": "848aa5cf",
   "metadata": {},
   "source": [
    "#### Question 7: What is the process for creating a class?\n",
    "- class - a reserved keyword is used to create a class.    \n",
    "- syntax:  class classname:\n",
    "- eg class country:"
   ]
  },
  {
   "cell_type": "markdown",
   "id": "7dcde4c7",
   "metadata": {},
   "source": [
    "#### Question 8 : How would you define the superclasses of a class?\n",
    "- Super/ Parent class is the class from which child class class inherits\n",
    "- eg   \n",
    "        class country:\n",
    "            pass\n",
    "        class states(country):\n",
    "           pass\n",
    "- here class country is the parent/super class and states is the child class"
   ]
  }
 ],
 "metadata": {
  "kernelspec": {
   "display_name": "Python 3 (ipykernel)",
   "language": "python",
   "name": "python3"
  },
  "language_info": {
   "codemirror_mode": {
    "name": "ipython",
    "version": 3
   },
   "file_extension": ".py",
   "mimetype": "text/x-python",
   "name": "python",
   "nbconvert_exporter": "python",
   "pygments_lexer": "ipython3",
   "version": "3.9.12"
  }
 },
 "nbformat": 4,
 "nbformat_minor": 5
}
