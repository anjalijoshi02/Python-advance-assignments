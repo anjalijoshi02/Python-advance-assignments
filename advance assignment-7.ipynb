{
 "cells": [
  {
   "cell_type": "markdown",
   "id": "f52f101e",
   "metadata": {},
   "source": [
    "# Python Advance Assignment-7"
   ]
  },
  {
   "cell_type": "markdown",
   "id": "5bdec4a6",
   "metadata": {},
   "source": [
    "#### Question 1 What is the purpose of the try statement?\n",
    "__Ans__ __try__ statement is used for exception handling. Under try block we write those set of statements which might cause an error during runtime, and if the code produces any error then the error is handled by the except block. Thus protecting the code from crashing during runtime."
   ]
  },
  {
   "cell_type": "code",
   "execution_count": 1,
   "id": "02b8a10f",
   "metadata": {},
   "outputs": [
    {
     "name": "stdout",
     "output_type": "stream",
     "text": [
      "division by zero\n"
     ]
    }
   ],
   "source": [
    "try:\n",
    "    print(1/0)\n",
    "except Exception as e:\n",
    "    print(e)"
   ]
  },
  {
   "cell_type": "markdown",
   "id": "aac44927",
   "metadata": {},
   "source": [
    "#### Question 2 What are the two most popular try statement variations?\n",
    "__Ans__ 1.try ,except    \n",
    "2. try,except,finally      \n",
    "- The try block is used to check code for exceptions during runtime. ie code inside try block will execute completely when there is no error in the program. Whereas the code inside except block will execute whenever the program encounters some error in the preceeding try block.    \n",
    "The code in finally block will be executed irrespective of anything."
   ]
  },
  {
   "cell_type": "markdown",
   "id": "9a349310",
   "metadata": {},
   "source": [
    "#### Question 3: What is the purpose of the raise statement?\n",
    "__Ans__ raise statement is used to trigger an exception explicitly, if a certain condition is not as per requirement of programmer. raise statement helps in triggering exception as per programming logic."
   ]
  },
  {
   "cell_type": "markdown",
   "id": "cdc22f2a",
   "metadata": {},
   "source": [
    "#### Question 4What does the assert statement do, and what other statement is it like?\n",
    "__Ans__ There are few assertions that programmer always want to be true to avoid code failure. This type of requirement is fulfilled by assert statement. This statement takes a boolean condition output of which is True, Further Program Executes. if output of assert statement is False, it raises an Assertion Error."
   ]
  },
  {
   "cell_type": "markdown",
   "id": "cc2ceb07",
   "metadata": {},
   "source": [
    "#### Question 5 What is the purpose of the with/as argument, and what other statement is it like?\n",
    "__Ans__ with/as statement simplifies use of file handling in python. When we use a with statement for file reading, there is no need for programmer to explicitly takecare of activities like resource deallocation and file closing by using file.close() method. with statement itself ensures proper acquisition and release of resources. this avoids triggering of exceptions if file closing is unknowingly forgotten in the code execution."
   ]
  }
 ],
 "metadata": {
  "kernelspec": {
   "display_name": "Python 3 (ipykernel)",
   "language": "python",
   "name": "python3"
  },
  "language_info": {
   "codemirror_mode": {
    "name": "ipython",
    "version": 3
   },
   "file_extension": ".py",
   "mimetype": "text/x-python",
   "name": "python",
   "nbconvert_exporter": "python",
   "pygments_lexer": "ipython3",
   "version": "3.9.7"
  }
 },
 "nbformat": 4,
 "nbformat_minor": 5
}
