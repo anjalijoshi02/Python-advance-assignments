{
 "cells": [
  {
   "cell_type": "markdown",
   "id": "a8541259",
   "metadata": {},
   "source": [
    "# Python Advance Assignment-2"
   ]
  },
  {
   "cell_type": "markdown",
   "id": "21771cf3",
   "metadata": {},
   "source": [
    "#### Question 1:What is the relationship between classes and modules?\n",
    "a __class__ is a user-defined blueprint from whcich objects are created and __modules__ are python programs that can be imported into another python program."
   ]
  },
  {
   "cell_type": "markdown",
   "id": "60ebccf8",
   "metadata": {},
   "source": [
    "#### Question 2 : How do you make instances and classes?\n",
    "- class personal_info:\n",
    "      def __init__(self,name,age)\n",
    "      self.name=name\n",
    "      self.age=age\n",
    "  obj_1=personal_info('anjali','20')     \n",
    "       \n",
    "       \n",
    "- we make a class using the keyword class \n",
    "- syntax: class <classname>:\n",
    "- here obj_1 is an instance/object of class personal_info which is created by calling the class by its name and passing the arguments"
   ]
  },
  {
   "cell_type": "markdown",
   "id": "de433450",
   "metadata": {},
   "source": [
    "#### Question 3 : Where and how should be class attributes created?\n",
    "Classs attributes belong to the class itself. These attributes will be shared by all the instances of the class. Hence these attributes are usually created/defined in the top of body of the class outside all methods.     \n",
    "__example__       \n",
    "- class abc:\n",
    "        a=10    \n",
    "        def __init__(self,b,c)     \n",
    "        self.b=b     \n",
    "        self.c=c      \n",
    "here 'a' is a class attribute"
   ]
  },
  {
   "cell_type": "markdown",
   "id": "e4c4242b",
   "metadata": {},
   "source": [
    "#### Question 4 : Where and how are instance attributes created?\n",
    "Instances attributes are created outside the class when an object of the class is created. Usually instance attributes are defined within the __init__ method of class.    \n",
    "__example__    \n",
    "- class personal_info:\n",
    "      def __init__(self,name,age)\n",
    "      self.name=name\n",
    "      self.age=age\n",
    "  obj_1=personal_info('anjali','20')     \n",
    "  - instance attribute is obj_1 which is created when an object of the class personal_info is created"
   ]
  },
  {
   "cell_type": "markdown",
   "id": "7b149ffe",
   "metadata": {},
   "source": [
    "#### Question 5 : What does the term &quot;self&quot; in a Python class mean?\n",
    "By using the “self” keyword we can access the attributes and methods of the class with in the class in python. It binds the attributes with the given arguments.\n",
    "- class personal_info:\n",
    "      def __init__(self,name,age)\n",
    "      self.name=name\n",
    "      self.age=age\n",
    "  obj_1=personal_info('anjali','20')\n",
    "- self(any other name can be used ) is a pointer thta tells that an object belongs to a particular class"
   ]
  },
  {
   "cell_type": "markdown",
   "id": "ac3b1e5c",
   "metadata": {},
   "source": [
    "#### Question 6 : How does a Python class handle operator overloading?\n",
    "- Python Classes handle operator overloading by using special methods called Magic methods.\n",
    "- These special methods usually begin and end with __ (double underscore)"
   ]
  },
  {
   "cell_type": "markdown",
   "id": "f425a861",
   "metadata": {},
   "source": [
    "#### Question 7 : When do you consider allowing operator overloading of your classes?\n",
    "We use operator overloading when we want to serve different meaning for the same operator accroding to the context."
   ]
  },
  {
   "cell_type": "code",
   "execution_count": 1,
   "id": "1919856d",
   "metadata": {},
   "outputs": [
    {
     "name": "stdout",
     "output_type": "stream",
     "text": [
      "3\n",
      "full stack data science\n"
     ]
    }
   ],
   "source": [
    "#1 usual addition\n",
    "print(1+2)\n",
    "#2 string concatenation\n",
    "print('full '+'stack '+'data '+'science' )\n"
   ]
  },
  {
   "cell_type": "markdown",
   "id": "84059b07",
   "metadata": {},
   "source": [
    "#### Question 8 : What is the most popular form of operator overloading?\n",
    "The most popular form of operator overloading in python is by special methods called __Magic methods__. which usually beign and end with double underscore __<method name>__."
   ]
  },
  {
   "cell_type": "code",
   "execution_count": 5,
   "id": "b889aa81",
   "metadata": {},
   "outputs": [
    {
     "name": "stdout",
     "output_type": "stream",
     "text": [
      "usual addition : sum of 1 and 2 is 3\n",
      "string concatenation  abcxyz\n"
     ]
    }
   ],
   "source": [
    "print(\"usual addition : sum of {} and {} is {}\".format(1,2,1+2))\n",
    "print('string concatenation ', 'abc'+'xyz')"
   ]
  },
  {
   "cell_type": "markdown",
   "id": "e00d6085",
   "metadata": {},
   "source": [
    "#### Question 9 : What are the two most important concepts to grasp in order to comprehend Python OOP code?\n",
    "__Classes__ and __objects__ are the two concepts to comprehend python OOP code as more formally objects are entities that represent instances of general abstract concept called class."
   ]
  }
 ],
 "metadata": {
  "kernelspec": {
   "display_name": "Python 3 (ipykernel)",
   "language": "python",
   "name": "python3"
  },
  "language_info": {
   "codemirror_mode": {
    "name": "ipython",
    "version": 3
   },
   "file_extension": ".py",
   "mimetype": "text/x-python",
   "name": "python",
   "nbconvert_exporter": "python",
   "pygments_lexer": "ipython3",
   "version": "3.9.7"
  }
 },
 "nbformat": 4,
 "nbformat_minor": 5
}
