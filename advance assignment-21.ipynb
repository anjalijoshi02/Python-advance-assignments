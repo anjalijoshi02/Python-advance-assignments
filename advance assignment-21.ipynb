{
 "cells": [
  {
   "cell_type": "markdown",
   "id": "9c38aef9",
   "metadata": {},
   "source": [
    "# Python Advance Assignment-21"
   ]
  },
  {
   "cell_type": "markdown",
   "id": "7650c9c5",
   "metadata": {},
   "source": [
    "#### Question 1: What is a probability distribution, exactly? If the values are meant to be random, how can you predict them at all ?\n",
    "__Ans:__ A probability distribution describes how a random variable is distributed.\n",
    "\n",
    "It tells us which values a random variable is most likely to take on and which values are less likely. Based on the previous data and the occurences of the random event, we can predict the outcome in terms of probabilities."
   ]
  },
  {
   "cell_type": "markdown",
   "id": "157c7f51",
   "metadata": {},
   "source": [
    "#### Question 2:Is there a distinction between true random numbers and pseudo-random numbers, if there is one? Why are the latter considered “good enough”?\n",
    "__Ans:__  True Random Numbers are true physical values while pseudo-random numbers are generated internally by a program . Latter is considered good enough as they have sort of uniform distribution."
   ]
  },
  {
   "cell_type": "markdown",
   "id": "3adbe659",
   "metadata": {},
   "source": [
    "#### Question 3: What are the two main factors that influence the behaviour of a \"normal\" probability distribution ?\n",
    "__Ans:__ Normal Probability Distribution are influenced by two factors mean and the variance."
   ]
  },
  {
   "cell_type": "markdown",
   "id": "6014761c",
   "metadata": {},
   "source": [
    "#### Question 4:Provide a real-life example of a normal distribution ?\n",
    "__Ans:__ A Real-life example of a normal distribution are heights measurements."
   ]
  },
  {
   "cell_type": "markdown",
   "id": "ef772b60",
   "metadata": {},
   "source": [
    "#### Question 5 :In the short term, how can you expect a probability distribution to behave? What do you think will happen as the number of trials grows ?\n",
    "__Ans:__ Variance will decrease with number of trials"
   ]
  },
  {
   "cell_type": "markdown",
   "id": "29f4b5f3",
   "metadata": {},
   "source": [
    "#### Question 6:What kind of object can be shuffled by using random.shuffle ?\n",
    "__Ans:__ lists (list), strings (str) and tuples (tuple) objects can be shuffled by using random.shuffle."
   ]
  },
  {
   "cell_type": "markdown",
   "id": "351548a4",
   "metadata": {},
   "source": [
    "#### Question 7:Describe the math package's general categories of functions ?\n",
    "Ans: The Math package's general categories of functions are:\n",
    "\n",
    "1. Trigonometric functions\n",
    "2. Quadratic functions\n",
    "3. Exponential functions\n",
    "4. Hyperbolic functions\n",
    "5. Periodic functions\n",
    "6. Arithmetic functions\n",
    "7. Logarithimic functions\n",
    "8. Conversions to Integer"
   ]
  },
  {
   "cell_type": "markdown",
   "id": "e568426b",
   "metadata": {},
   "source": [
    "#### Question 8: What is the relationship between exponentiation and logarithms ?\n",
    "__Ans:__ Exponentiation and logarithms are inverse of each other."
   ]
  },
  {
   "cell_type": "markdown",
   "id": "081acb25",
   "metadata": {},
   "source": [
    "#### Question 9:What are the three logarithmic functions that Python supports ?\n",
    "Ans: The Three Logarithmic Functions that Python supports are:\n",
    "\n",
    "- log2(x) - logarithmic value of x to base 2\n",
    "- log10(x) - logarithmic value of x to base 10\n",
    "- log1p(a) - This function is used to compute logarithm(1+a) ."
   ]
  }
 ],
 "metadata": {
  "kernelspec": {
   "display_name": "Python 3 (ipykernel)",
   "language": "python",
   "name": "python3"
  },
  "language_info": {
   "codemirror_mode": {
    "name": "ipython",
    "version": 3
   },
   "file_extension": ".py",
   "mimetype": "text/x-python",
   "name": "python",
   "nbconvert_exporter": "python",
   "pygments_lexer": "ipython3",
   "version": "3.9.12"
  }
 },
 "nbformat": 4,
 "nbformat_minor": 5
}
