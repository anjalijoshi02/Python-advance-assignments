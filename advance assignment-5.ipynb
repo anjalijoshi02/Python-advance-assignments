{
 "cells": [
  {
   "cell_type": "markdown",
   "id": "bd4f9b4d",
   "metadata": {},
   "source": [
    "# Python Advance Assignment-5\n"
   ]
  },
  {
   "cell_type": "markdown",
   "id": "a16a9e4e",
   "metadata": {},
   "source": [
    "#### Question 1 : What is the meaning of multiple inheritance?\n",
    "When a child/derived class inherits from more than1 parent class, it is termed as multiple inheritence."
   ]
  },
  {
   "cell_type": "code",
   "execution_count": 1,
   "id": "23c22ef6",
   "metadata": {},
   "outputs": [],
   "source": [
    "class parent_1:\n",
    "    pass\n",
    "class parent_2:\n",
    "    pass\n",
    "class derived(parent_1,parent_2):\n",
    "    pass"
   ]
  },
  {
   "cell_type": "markdown",
   "id": "1d94aa27",
   "metadata": {},
   "source": [
    "#### Question 2 : What is the concept of delegation?\n"
   ]
  },
  {
   "cell_type": "markdown",
   "id": "cdd35246",
   "metadata": {},
   "source": [
    "- Delegation provides a proxy object for any class thay you want on top of the main class. its like a wrapper to your class so that you can access limited resources of the main class.\n",
    "\n",
    "- It Wraps the object of main class into a smaller object with limited access\n",
    "\n",
    "- Simply Delegation means that you can include a instance of another class as an instance variable, and forward messages to the instance."
   ]
  },
  {
   "cell_type": "markdown",
   "id": "2e9879f4",
   "metadata": {},
   "source": [
    "#### Question 3 : What is the concept of composition?"
   ]
  },
  {
   "cell_type": "markdown",
   "id": "0135b9cf",
   "metadata": {},
   "source": [
    "In the concept of Composition, a class refers to one or more other classes by using instances of those classes as a instance variable. irrespective of inheritence in this approach all the parent class members are not inherited into child class, but only required methods from a class are used by using class instances."
   ]
  },
  {
   "cell_type": "markdown",
   "id": "95f211e8",
   "metadata": {},
   "source": [
    "#### Question 4 : What are bound methods and how do we use them?"
   ]
  },
  {
   "cell_type": "markdown",
   "id": "a8941075",
   "metadata": {},
   "source": [
    "If a function is an attribute of class and it is accessed via the instances, they are called bound methods. A bound method is one that has self as its first argument. Since these are dependent on the instance of classes, these are also known as instance methods."
   ]
  },
  {
   "cell_type": "code",
   "execution_count": 2,
   "id": "580715cd",
   "metadata": {},
   "outputs": [
    {
     "name": "stdout",
     "output_type": "stream",
     "text": [
      "Called method_one\n",
      "Called method_two\n",
      "Called method_two\n",
      "Called method_three\n"
     ]
    }
   ],
   "source": [
    "class Test:\n",
    "    def method_one(self): # bound method\n",
    "        print(\"Called method_one\")\n",
    "    @classmethod\n",
    "    def method_two(cls): # unbound method\n",
    "        print(\"Called method_two\")\n",
    "    @staticmethod\n",
    "    def method_three(): # static method\n",
    "        print(\"Called method_three\")\n",
    "\n",
    "test = Test()\n",
    "test.method_one()\n",
    "test.method_two() \n",
    "Test.method_two() \n",
    "Test.method_three()"
   ]
  },
  {
   "cell_type": "markdown",
   "id": "6dbd0305",
   "metadata": {},
   "source": [
    "#### Question 5:  What is the purpose of pseudoprivate attributes?"
   ]
  },
  {
   "cell_type": "markdown",
   "id": "a423eeef",
   "metadata": {},
   "source": [
    "Pseudoprivate attributes are also useful in larger frameworks or tools, both to avoid introducing new method names that might accidentally hide definitions elsewhere in the class tree and to reduce the chance of internal methods being replaced by names defined lower in the tree. If a method is intended for use only within a class that may be mixed into other classes, the double underscore prefix ensures that the method won't interfere with other names in the tree, especially in multiple-inheritance scenarios\n",
    "\n",
    "Pseudoprivate names also prevent subclasses from accidentally redefining the internal method's names,"
   ]
  }
 ],
 "metadata": {
  "kernelspec": {
   "display_name": "Python 3 (ipykernel)",
   "language": "python",
   "name": "python3"
  },
  "language_info": {
   "codemirror_mode": {
    "name": "ipython",
    "version": 3
   },
   "file_extension": ".py",
   "mimetype": "text/x-python",
   "name": "python",
   "nbconvert_exporter": "python",
   "pygments_lexer": "ipython3",
   "version": "3.9.12"
  }
 },
 "nbformat": 4,
 "nbformat_minor": 5
}
