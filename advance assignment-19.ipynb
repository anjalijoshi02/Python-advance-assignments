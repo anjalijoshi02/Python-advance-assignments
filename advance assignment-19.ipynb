{
 "cells": [
  {
   "cell_type": "markdown",
   "id": "7b852d24",
   "metadata": {},
   "source": [
    "# Python Advance Assignment-19"
   ]
  },
  {
   "cell_type": "markdown",
   "id": "846a395c",
   "metadata": {},
   "source": [
    "#### Question 1:Define the relationship between a class and its instances. Is it a one-to-one or a one-to-many partnership, for example?\n",
    "__Ans:__ Relationship between a class and its instances is a one to many partnership."
   ]
  },
  {
   "cell_type": "markdown",
   "id": "cbec3f49",
   "metadata": {},
   "source": [
    "#### Question 2:What kind of data is held only in an instance?\n",
    "__Ans:__ Instance objects contains the Instance variables which are specific to that specific Instance object."
   ]
  },
  {
   "cell_type": "markdown",
   "id": "787c3c98",
   "metadata": {},
   "source": [
    "#### Question 3: What kind of knowledge is stored in a class?\n",
    "__Ans:__ Class creates a user-defined data structure, which holds its own data members and member functions, which can be accessed and used by creating an instance of that class. A class is like a blueprint for an object."
   ]
  },
  {
   "cell_type": "markdown",
   "id": "6a9cdf65",
   "metadata": {},
   "source": [
    "#### Question 4: What exactly is a method, and how is it different from a regular function?\n",
    "__Ans:__ The methods with a class can be used to access the insatnce variables of its instance. So,the object's state can be modified by its method. Function can't access the attributes of an instance of a class or can't modify the state of the object."
   ]
  },
  {
   "cell_type": "markdown",
   "id": "6da1e2c2",
   "metadata": {},
   "source": [
    "#### Question 5: Is inheritance supported in Python, and if so, what is the syntax?\n",
    "__Ans:__ Yes,Python supports inheritance. The Types of Inheritence Supported by Python are:\n",
    "\n",
    "- Simple Inheritence\n",
    "- Multiple Inheritence\n",
    "- Multilevel lInheritence\n",
    "- Hybrid Inheritence\n",
    "- Hierracial Inheritence"
   ]
  },
  {
   "cell_type": "code",
   "execution_count": 1,
   "id": "4e8e10a9",
   "metadata": {},
   "outputs": [],
   "source": [
    "class Person:\n",
    "    def __init__(self, fname, lname):\n",
    "        self.first_name = fname\n",
    "        self.last_name = lname\n",
    "class Student(Person):\n",
    "    pass"
   ]
  },
  {
   "cell_type": "markdown",
   "id": "efa7a256",
   "metadata": {},
   "source": [
    "#### Question 6:How much encapsulation (making instance or class variables private) does Python support?\n",
    "__Ans:__ Encapsulation describes the idea of wrapping data and the methods that work on data within one unit. This puts restrictions on accessing variables and methods directly and can prevent the accidental modification of data. To prevent accidental change, an objects variable can only be changed by an objects method."
   ]
  },
  {
   "cell_type": "markdown",
   "id": "9d3b2d3d",
   "metadata": {},
   "source": [
    "#### Question 7: How do you distinguish between a class variable and an instance variable?\n",
    "__Ans:__ The Class Attribute is available to all the instance objects of that class. whereas Instance Attributes are accessible only to the object or Instance of that class.\n",
    "\n",
    "A single copy of Class attributes is maintained by pvm at the class level. Whereas difference copies of instance attributes are maintained by pvm at objects/instance level."
   ]
  },
  {
   "cell_type": "markdown",
   "id": "044a539d",
   "metadata": {},
   "source": [
    "#### Question 8:When, if ever, can self be included in a class's method definitions?\n",
    "__Ans:__ Yes, self can included in class method definations to access the instance variables inside class methods."
   ]
  },
  {
   "cell_type": "markdown",
   "id": "786cc407",
   "metadata": {},
   "source": [
    "#### Question 9: What is the difference between the __add__ and the __radd__ methods ?\n",
    "__Ans:__ Entering __radd__ Python will first try __add__(), and if that returns Not Implemented Python will check if the right-hand operand implements __radd__, and if it does, it will call __radd__() rather than raising a TypeError"
   ]
  },
  {
   "cell_type": "markdown",
   "id": "0c5d5fb4",
   "metadata": {},
   "source": [
    "#### Question 10:When is it necessary to use a reflection method? When do you not need it, even though you support the operation in question?\n",
    "__Ans:__ Reflection method we often encounter the requirement that a method in the executing object, or a variable in the calling object, or a field of the object should be assigned, while the method name or field name can not be determined when encoding the code, and need to be input in the form of passing strings through parameters."
   ]
  },
  {
   "cell_type": "markdown",
   "id": "44a8bf68",
   "metadata": {},
   "source": [
    "#### Question 11:What is the __iadd__ method called?\n",
    "__Ans:__ __iadd__ method is called when we use implementation like a+=b which is a.__iadd__(b)"
   ]
  },
  {
   "cell_type": "markdown",
   "id": "4b021522",
   "metadata": {},
   "source": [
    "#### Question 12:Is the _ _init_ _ method inherited by subclasses? What do you do if you need to customize its behavior within a subclass ?\n",
    "__Ans:__  __init__ method will be inherited by subclasses. if we want to customize its behaviour within a subclass we can use super() method.\n",
    "    "
   ]
  }
 ],
 "metadata": {
  "kernelspec": {
   "display_name": "Python 3 (ipykernel)",
   "language": "python",
   "name": "python3"
  },
  "language_info": {
   "codemirror_mode": {
    "name": "ipython",
    "version": 3
   },
   "file_extension": ".py",
   "mimetype": "text/x-python",
   "name": "python",
   "nbconvert_exporter": "python",
   "pygments_lexer": "ipython3",
   "version": "3.9.12"
  }
 },
 "nbformat": 4,
 "nbformat_minor": 5
}
